{
 "cells": [
  {
   "cell_type": "markdown",
   "id": "d6ad344e-c4cb-4ac8-898f-0f6f33d12dd7",
   "metadata": {
    "tags": []
   },
   "source": [
    "## Goals of this script: ## \n",
    "\n",
    "• Plot drive cycle (velocity over time) by route  \n",
    "\n",
    "• Obtain total distance traveled along route, accounting for elevation change\\\n",
    "\n",
    "• Plot route on OpenStreetMap\n",
    "\n",
    "--> Estimate the energy requirement for traveling along the route\n",
    "    • the metadata will come in different csv's for each minibus, so adapt Fili's code to loop through the files and read them all in, and then for loop thru each for calculations.\n",
    "---------------------------------------------------------------------------------------------------------\n",
    "\n",
    "Current concerns:\n",
    "\n",
    "**Distance calculation is sus** \n",
    "The issue is that you can move more than 1m with the accelerometer but it records the same lat/long (ie without more granular lat/long data, what is the best way to calculate distance)\n",
    "\n",
    "\n",
    "\n",
    "**Slope calcluation** having issues because the change in altitude measurement appears to be more sensitive than the change in distance (i.e. two successive observations may have same lat long but different altitudes). Solution is to use arccos instead of arcsin (using lateral and 3d dist instead of altitude and 3d dist), but arcsin is preferable becauase it uses 1 measured value instead of two calculated values\n",
    "\n",
    "**Energy Expenditure calculation** is giving way too high of a number. I think this has to do with some physical parameter. I thought maybe it had to do with sus slope calculation, but setting all slopes to 0 only decreases final sum by 500 out of tens of thousands of kWh. That is still quite a bit and could indicate that the slope calculation is wrong, but is not the main problem here. Am using V2GO output as part of the sanity check. "
   ]
  },
  {
   "cell_type": "code",
   "execution_count": 6,
   "id": "120d6ce4-c42c-4d90-9a15-c80fe91b28d6",
   "metadata": {},
   "outputs": [],
   "source": [
    "import pandas as pd\n",
    "import os\n",
    "import numpy as np\n",
    "import geopy.distance\n",
    "import datetime\n",
    "import geopandas\n",
    "import matplotlib as matplotlib\n",
    "import matplotlib.pyplot as plt\n",
    "\n",
    "import descartes\n",
    "import geopandas as gpd\n",
    "from shapely.geometry import Point, Polygon\n",
    "\n",
    "import folium"
   ]
  },
  {
   "cell_type": "markdown",
   "id": "95a46496-66a5-42c7-a42b-8afaef26f1c4",
   "metadata": {},
   "source": [
    "## Import and Clean Data"
   ]
  },
  {
   "cell_type": "code",
   "execution_count": 10,
   "id": "256aac72-835f-40ef-9590-1a9a9a854c0d",
   "metadata": {
    "tags": []
   },
   "outputs": [],
   "source": [
    "#df = pd.read_csv(\"TEST1.csv\")\n",
    "# current directory csv files\n",
    "files = [x for x in os.listdir('.') if x.endswith('.CSV')]\n",
    "fns = [os.path.splitext(os.path.basename(x))[0] for x in files]\n",
    "\n",
    "d = {}\n",
    "for i in range(len(fns)):\n",
    "    d[fns[i]] = pd.read_csv(files[i])"
   ]
  },
  {
   "cell_type": "code",
   "execution_count": 15,
   "id": "afd6493b-e249-4995-9f72-d9fb74f4db1b",
   "metadata": {},
   "outputs": [
    {
     "data": {
      "text/plain": [
       "{'KMDI - STB':           Date     Time  Latitude  Longitude  Altitude  Speed  Heading  \\\n",
       " 0    11/3/2022  9:29:08 -33.91867   18.85160     116.0   0.87   263.20   \n",
       " 1    11/3/2022  9:29:10 -33.91867   18.85160     116.0   0.80   263.20   \n",
       " 2    11/3/2022  9:29:12 -33.91867   18.85161     116.0   0.72   263.20   \n",
       " 3    11/3/2022  9:29:13 -33.91867   18.85161     116.0   0.87   263.20   \n",
       " 4    11/3/2022  9:29:14 -33.91867   18.85161     116.0   0.93   263.20   \n",
       " ..         ...      ...       ...        ...       ...    ...      ...   \n",
       " 342  11/3/2022  9:36:48 -33.93257   18.85821      80.4  10.70    68.50   \n",
       " 343  11/3/2022  9:36:49 -33.93256   18.85824      80.1  10.19    69.02   \n",
       " 344  11/3/2022  9:36:50 -33.93257   18.85825      80.1   5.76    99.84   \n",
       " 345  11/3/2022  9:36:51 -33.93256   18.85829      79.6   4.57   144.84   \n",
       " 346  11/3/2022  9:36:53 -33.93257   18.85830      78.9   2.33   144.84   \n",
       " \n",
       "      X-Axis Acceleration  Y-Axis Acceleration  Z-Axis Acceleration  \n",
       " 0                  0.092               -0.004              1.01209  \n",
       " 1                  0.110                0.000              1.00609  \n",
       " 2                  0.114                0.006              0.99209  \n",
       " 3                  0.180               -0.004              0.97609  \n",
       " 4                  0.172                0.004              0.96009  \n",
       " ..                   ...                  ...                  ...  \n",
       " 342                0.104               -0.116              1.02008  \n",
       " 343                0.000               -0.096              0.94808  \n",
       " 344                0.024               -0.064              1.01608  \n",
       " 345                0.004                0.008              1.02008  \n",
       " 346                0.060                0.002              1.01408  \n",
       " \n",
       " [347 rows x 10 columns],\n",
       " 'SW - STB':            Date     Time  Latitude  Longitude  Altitude  Speed  Heading  \\\n",
       " 0     11/3/2022  8:18:50 -34.08452   18.85114      32.8   5.07    45.03   \n",
       " 1     11/3/2022  8:18:52 -34.08451   18.85117      33.0   6.43    51.86   \n",
       " 2     11/3/2022  8:18:54 -34.08449   18.85123      33.0  12.46    63.70   \n",
       " 3     11/3/2022  8:18:55 -34.08448   18.85126      33.0  12.35    60.44   \n",
       " 4     11/3/2022  8:18:57 -34.08445   18.85133      33.2   9.43    61.87   \n",
       " ...         ...      ...       ...        ...       ...    ...      ...   \n",
       " 1148  11/3/2022  8:46:00 -33.93243   18.85879     108.4   0.06   359.54   \n",
       " 1149  11/3/2022  8:46:02 -33.93244   18.85879     108.4   0.06   359.54   \n",
       " 1150  11/3/2022  8:46:04 -33.93244   18.85879     108.4   0.04   359.54   \n",
       " 1151  11/3/2022  8:46:05 -33.93244   18.85879     108.4   0.00   359.54   \n",
       " 1152  11/3/2022  8:46:07 -33.93244   18.85879     108.4   0.07   359.54   \n",
       " \n",
       "       X-Axis Acceleration  Y-Axis Acceleration  Z-Axis Acceleration  \n",
       " 0                   0.012               -0.082              1.01601  \n",
       " 1                   0.012                0.040              1.02401  \n",
       " 2                  -0.066                0.046              0.99601  \n",
       " 3                  -0.032                0.132              1.13601  \n",
       " 4                   0.010                0.108              1.05209  \n",
       " ...                   ...                  ...                  ...  \n",
       " 1148                0.140               -0.012              0.97208  \n",
       " 1149               -0.006               -0.034              1.02209  \n",
       " 1150               -0.040                0.076              1.06609  \n",
       " 1151               -0.072                0.136              1.03609  \n",
       " 1152                0.084                0.036              0.98209  \n",
       " \n",
       " [1153 rows x 10 columns],\n",
       " 'STB - KMDI':           Date     Time  Latitude  Longitude  Altitude  Speed  Heading  \\\n",
       " 0    11/3/2022  9:02:32 -33.93260   18.85649     103.7  30.06   262.09   \n",
       " 1    11/3/2022  9:02:34 -33.93262   18.85628     103.9  39.17   262.21   \n",
       " 2    11/3/2022  9:02:35 -33.93264   18.85615     104.0  44.28   264.38   \n",
       " 3    11/3/2022  9:02:37 -33.93266   18.85587     103.6  47.30   265.86   \n",
       " 4    11/3/2022  9:02:38 -33.93267   18.85572     103.5  47.00   264.98   \n",
       " ..         ...      ...       ...        ...       ...    ...      ...   \n",
       " 829  11/3/2022  9:22:49 -33.91876   18.85131     117.0   0.04   148.26   \n",
       " 830  11/3/2022  9:22:51 -33.91876   18.85131     117.0   0.02   148.26   \n",
       " 831  11/3/2022  9:22:53 -33.91876   18.85131     117.1   0.02   148.26   \n",
       " 832  11/3/2022  9:22:54 -33.91876   18.85131     117.1   0.02   148.26   \n",
       " 833  11/3/2022  9:22:55 -33.91876   18.85131     117.1   0.02   148.26   \n",
       " \n",
       "      X-Axis Acceleration  Y-Axis Acceleration  Z-Axis Acceleration  \n",
       " 0                  0.164               -0.112              1.00401  \n",
       " 1                  0.134               -0.148              0.89801  \n",
       " 2                  0.000               -0.180              1.02401  \n",
       " 3                 -0.030               -0.156              0.97401  \n",
       " 4                  0.000               -0.096              0.96801  \n",
       " ..                   ...                  ...                  ...  \n",
       " 829               -0.080                0.032              1.02009  \n",
       " 830                0.058               -0.006              0.95009  \n",
       " 831                0.086               -0.032              1.01209  \n",
       " 832                0.000                0.004              1.02009  \n",
       " 833                0.088               -0.088              1.04009  \n",
       " \n",
       " [834 rows x 10 columns],\n",
       " 'TEST1':          Date      Time  Latitude  Longitude  Altitude  Speed  Heading  \\\n",
       " 0    9/3/2022  15:08:51 -33.93113   18.85856     119.0   0.46   329.52   \n",
       " 1    9/3/2022  15:08:53 -33.93113   18.85856     119.2   0.52   329.52   \n",
       " 2    9/3/2022  15:08:55 -33.93113   18.85856     119.5   0.61   329.52   \n",
       " 3    9/3/2022  15:08:56 -33.93113   18.85855     119.6   0.35   329.52   \n",
       " 4    9/3/2022  15:08:57 -33.93113   18.85855     119.7   0.30   329.52   \n",
       " ..        ...       ...       ...        ...       ...    ...      ...   \n",
       " 613  9/3/2022  15:23:34 -33.96375   18.84001     128.2   7.07    59.04   \n",
       " 614  9/3/2022  15:23:36 -33.96373   18.84003     128.1   0.26    35.08   \n",
       " 615  9/3/2022  15:23:37 -33.96373   18.84003     127.9   0.09    35.08   \n",
       " 616  9/3/2022  15:23:39 -33.96373   18.84003     128.8   0.07    35.08   \n",
       " 617  9/3/2022  15:23:41 -33.96372   18.84003     128.7   0.04    35.08   \n",
       " \n",
       "      X-Axis Acceleration  Y-Axis Acceleration  Z-Axis Acceleration  \n",
       " 0                  0.020                0.188                1.028  \n",
       " 1                  0.054                0.156                1.062  \n",
       " 2                  0.052                0.174                1.026  \n",
       " 3                  0.008                0.160                0.964  \n",
       " 4                  0.052                0.072                1.056  \n",
       " ..                   ...                  ...                  ...  \n",
       " 613               -0.076                0.160                0.952  \n",
       " 614                0.028                0.142                1.024  \n",
       " 615                0.104                0.116                0.960  \n",
       " 616                0.112                0.156                0.994  \n",
       " 617                0.112                0.176                0.998  \n",
       " \n",
       " [618 rows x 10 columns],\n",
       " 'STB - SW':            Date     Time  Latitude  Longitude  Altitude  Speed  Heading  \\\n",
       " 0     11/3/2022  7:31:57 -33.93304   18.85857     120.5   0.37   177.12   \n",
       " 1     11/3/2022  7:31:59 -33.93304   18.85857     120.5   0.30   177.12   \n",
       " 2     11/3/2022  7:32:01 -33.93304   18.85857     120.5   0.52   177.12   \n",
       " 3     11/3/2022  7:32:02 -33.93305   18.85857     120.5   0.81   177.12   \n",
       " 4     11/3/2022  7:32:04 -33.93305   18.85857     120.5   0.74   177.12   \n",
       " ...         ...      ...       ...        ...       ...    ...      ...   \n",
       " 1696  11/3/2022  8:12:46 -34.08462   18.85108      29.7   8.63   245.70   \n",
       " 1697  11/3/2022  8:12:47 -34.08462   18.85106      29.1   6.80   271.66   \n",
       " 1698  11/3/2022  8:12:48 -34.08462   18.85104      28.9   3.89   271.97   \n",
       " 1699  11/3/2022  8:12:50 -34.08462   18.85103      30.3   0.06   271.97   \n",
       " 1700  11/3/2022  8:12:52 -34.08462   18.85104      31.4   0.09   271.97   \n",
       " \n",
       "       X-Axis Acceleration  Y-Axis Acceleration  Z-Axis Acceleration  \n",
       " 0                   0.010               -0.088             0.978011  \n",
       " 1                   0.000               -0.134             0.992011  \n",
       " 2                   0.004               -0.132             0.980011  \n",
       " 3                  -0.020               -0.152             1.004011  \n",
       " 4                  -0.006               -0.162             0.988011  \n",
       " ...                   ...                  ...                  ...  \n",
       " 1696               -0.284               -0.070             0.978010  \n",
       " 1697               -0.256                0.064             0.984010  \n",
       " 1698               -0.212                0.068             0.964010  \n",
       " 1699               -0.058               -0.162             0.860010  \n",
       " 1700                0.000               -0.316             0.948010  \n",
       " \n",
       " [1701 rows x 10 columns]}"
      ]
     },
     "execution_count": 15,
     "metadata": {},
     "output_type": "execute_result"
    }
   ],
   "source": [
    "d"
   ]
  },
  {
   "cell_type": "code",
   "execution_count": 355,
   "id": "2a333299-d484-403d-bfd2-45100d862f46",
   "metadata": {
    "tags": []
   },
   "outputs": [],
   "source": [
    "df['DateTime'] = pd.to_datetime(df['Date'] + df['Time'], format = '%m/%d/%Y%H:%M:%S')\n",
    "df['TimeDif'] = df['DateTime'] - df['DateTime'].shift(1) # Difference in time between each observation\n",
    "df[\"RelTime\"] = df[\"DateTime\"] - df[\"DateTime\"].min() # For plotting drive cycle\n",
    "df['ElevChange'] = df['Altitude'] - df[\"Altitude\"].shift(1) # May not be needed if don't use haversine function \n",
    "df['Acceleration'] = np.sqrt(df['X-Axis Acceleration']**2 + df['Y-Axis Acceleration']**2 + df['Z-Axis Acceleration']**2)\n",
    "df = df.drop(labels = ['Time', 'Date'], axis = 1)"
   ]
  },
  {
   "cell_type": "code",
   "execution_count": 356,
   "id": "210da72a-cdce-4448-b23a-30f99f55cb3c",
   "metadata": {
    "jupyter": {
     "source_hidden": true
    },
    "tags": []
   },
   "outputs": [],
   "source": [
    "df.TimeDif = df['TimeDif'] / np.timedelta64(1, 's') # Convert difference in time to int"
   ]
  },
  {
   "cell_type": "markdown",
   "id": "e92a0d08-cd48-416f-a160-c4b04193d6b1",
   "metadata": {},
   "source": [
    "## Drive Cycle Analysis"
   ]
  },
  {
   "cell_type": "code",
   "execution_count": 256,
   "id": "d3e9de94-fa85-41ff-a9b7-9ba64259c5e6",
   "metadata": {
    "collapsed": true,
    "jupyter": {
     "outputs_hidden": true,
     "source_hidden": true
    },
    "tags": []
   },
   "outputs": [
    {
     "data": {
      "text/plain": [
       "[<matplotlib.lines.Line2D at 0x7f9ec32d37c0>]"
      ]
     },
     "execution_count": 256,
     "metadata": {},
     "output_type": "execute_result"
    },
    {
     "data": {
      "image/png": "[encoded data removed]",
      "text/plain": [
       "<Figure size 432x288 with 1 Axes>"
      ]
     },
     "metadata": {
      "needs_background": "light"
     },
     "output_type": "display_data"
    }
   ],
   "source": [
    "plt.plot(df[\"DateTime\"], df[\"Speed\"])"
   ]
  },
  {
   "cell_type": "markdown",
   "id": "8804c479-7640-4059-bd9a-7f409176411e",
   "metadata": {},
   "source": [
    "## Route Analysis (Distance)"
   ]
  },
  {
   "cell_type": "markdown",
   "id": "42d918b6-c502-421b-b717-471c33f533d6",
   "metadata": {},
   "source": [
    "#### Two ways of calculating distance\n",
    "First with geopy\n",
    "Second with explicitly calculated Haversine function"
   ]
  },
  {
   "cell_type": "code",
   "execution_count": 415,
   "id": "92bd2d87-8e97-44d0-9c44-1be461e64d8c",
   "metadata": {},
   "outputs": [],
   "source": [
    "#Calculating distance traveled between each successive lat long pair using geopy\n",
    "\n",
    "df['Coordinates'] = list(zip(df.Latitude, df.Longitude))\n",
    "Distance = np.zeros(len(df))\n",
    "Slope = np.zeros(len(df))\n",
    "Slope_tan = np.zeros(len(df))\n",
    "l_route = df.shape[0]\n",
    "\n",
    "for i in range(1,l_route):\n",
    "    elev_change = df.Altitude.iloc[i]-df.Altitude.iloc[i-1]\n",
    "    dist_lateral = geopy.distance.geodesic(df.Coordinates.iloc[i_ref],  # Lateral distance in meters - dist between two lat/lon coord pairs\n",
    "                                       df.Coordinates.iloc[i]).m\n",
    "    dist_3d = np.sqrt(dist_lateral**2 + elev_change**2)  # 3d dist -- accounting for elevation\n",
    "    Distance[i] = dist_3d/1e3 \n",
    "    #print(dist_lateral, dist_3d)\n",
    "    if Distance[i] > 0:\n",
    "        Slope[i] = np.arccos(dist_lateral/dist_3d) # Would rather use arcsin since that uses 1 measured value instead of 2 calculated values, but that doesn't work\n",
    "        \n",
    "df['Distance_3D_km'] = list(Distance)\n",
    "df['slope_rad'] = list(Slope) "
   ]
  },
  {
   "cell_type": "code",
   "execution_count": 257,
   "id": "bae6ad2a-1c75-4e2f-b7ab-e4ee842dc58e",
   "metadata": {
    "jupyter": {
     "source_hidden": true
    },
    "tags": []
   },
   "outputs": [],
   "source": [
    "# Calculating distance between two lat long points with Haversine formula\n",
    "def haversine(lat1, lon1, lat2, lon2, earth_radius=6371):\n",
    "    \"\"\"\n",
    "    slightly modified version: of http://stackoverflow.com/a/29546836/2901002\n",
    "    Calculate the great circle distance between two points\n",
    "    on the earth (specified in decimal degrees or in radians)\n",
    "    All (lat, lon) coordinates must have numeric dtypes and be of equal length.\n",
    "\n",
    "    \"\"\"\n",
    "    a = np.sin((lat2-lat1)/2.0)**2 + \\\n",
    "        np.cos(lat1) * np.cos(lat2) * np.sin((lon2-lon1)/2.0)**2\n",
    "    \n",
    "    return earth_radius * 2 * np.arcsin(np.sqrt(a)) \n",
    "\n",
    "# Not accounting for elevataion change\n",
    "df['dist_no_elev'] = \\\n",
    "        haversine(df.Latitude.shift(), df.Longitude.shift(),\n",
    "                 df.loc[1:, 'Latitude'], df.loc[1:, 'Longitude']) # in m\n",
    "\n",
    "# Accounting for elevation change\n",
    "df['dist_elev_change'] = \\\n",
    "    np.sqrt(haversine(df.Latitude.shift(), df.Longitude.shift(),\n",
    "                 df.loc[1:, 'Latitude'], df.loc[1:, 'Longitude'])**2 + df['ElevChange']**2) #in m\n",
    "\n"
   ]
  },
  {
   "cell_type": "code",
   "execution_count": 317,
   "id": "34f01cad-d779-430e-bcd2-77d55d5e7fd2",
   "metadata": {
    "collapsed": true,
    "jupyter": {
     "outputs_hidden": true,
     "source_hidden": true
    },
    "tags": []
   },
   "outputs": [
    {
     "data": {
      "text/plain": [
       "6.864298793288392"
      ]
     },
     "execution_count": 317,
     "metadata": {},
     "output_type": "execute_result"
    }
   ],
   "source": [
    "# Sanity checking the distance on the route in KM \n",
    "print(df.dist_elev_change.sum())\n",
    "print(df.Distance_3D_km.sum())"
   ]
  },
  {
   "cell_type": "markdown",
   "id": "684194d8-5776-4730-a958-75fce08e7705",
   "metadata": {
    "tags": []
   },
   "source": [
    "## Energy Requirements Analysis \n",
    "To-Do: implement vehicle parameters, get estimated energy consumption for a route. Get SoC along route"
   ]
  },
  {
   "cell_type": "code",
   "execution_count": 416,
   "id": "fad96bdf-ea59-48e4-9685-feb57510c969",
   "metadata": {
    "tags": []
   },
   "outputs": [],
   "source": [
    "# Functions to retrieve the four different types of forces acting on the vehicle\n",
    "# obtained from https://x-engineer.org/ev-design-energy-consumption/\\\n",
    "\n",
    "def getInertialForce(mass, accel):\n",
    "    return mass * accel\n",
    "\n",
    "def getRoadSlopeForce(mass, slope, grav = 9.81):\n",
    "    return mass * grav * np.sin(slope)\n",
    "\n",
    "def getRoadFriction(mass, c_rr, slope, grav = 9.81): #c_rr is coeff of rolling resistance\n",
    "    return mass * grav * c_rr * np.cos(slope)\n",
    "\n",
    "def getAerodynamicDrag(c_d, A, vel, rho = 1.204,): # rho is air density 20C, c_d is air drag coeff\n",
    "    return 0.5 * rho * c_d * A * vel**2\n",
    "\n"
   ]
  },
  {
   "cell_type": "code",
   "execution_count": 457,
   "id": "322cb4ae-4de3-4a4f-95d9-99e607e383f8",
   "metadata": {
    "tags": []
   },
   "outputs": [],
   "source": [
    "class Vehicle:\n",
    "    \"\"\"\n",
    "    Inputs: Physical parameters of vehicle for modeling energy consumption\n",
    "    \"\"\"\n",
    "    def __init__(self, imei = (None), mass = 3500, \n",
    "                 cd = 0.36, crr = 0.02, height = 1.995, width = 1.880,\n",
    "                 eff = 0.9, rgbeff = 0.75, cap = 100, p0 = 1000):\n",
    "        self.imei = imei # data logger identifier\n",
    "        self.reg_n = 'n/a' # registration number\n",
    "        self.frames = {} # where routes data will be stored\n",
    "        self.journey_info = [] # journey_dT objects linekd here\n",
    "        self.v2g_stops = None \n",
    "        \n",
    "        # Vehicle physical parameters\n",
    "        self.mass = mass # kg\n",
    "        self.load = 0.0 #kg\n",
    "        self.crr = crr # coefficient of rolling resistance\n",
    "        self.cd = cd  # air drag coefficient\n",
    "        self.A = height * width * 0.85 # m^2, Approximation of vehicle frontal area \n",
    "        self.eff = eff\n",
    "        self.rgeff = rgbeff # regen brake efficiency\n",
    "        self.capacity = cap # kWh\n",
    "        self.battery = cap\n",
    "        self.p0 = p0 # constant power loss in W (to run the vehicle besides driving)\n",
    "        \n",
    "    def getEnergyExpenditure(self,cycle,regbrake = True):\n",
    "        # computes energy expenditure from a Drivecycle object\n",
    "        # dt default 1 second\n",
    "        \n",
    "        v = cycle.velocity # m/s\n",
    "        s = cycle.slope # rad\n",
    "        a = cycle.acceleration # m/s^2\n",
    "        dt = cycle.dt # s\n",
    "        \n",
    "        if regbrake == True:\n",
    "            RGBeff = rgbeff\n",
    "        else:\n",
    "            RGBeff = 0\n",
    "                        \n",
    "        Fr = [] # Drag force (Constance's model). Inertial force + Road load(friction) + Aerodynamic drag\n",
    "        Er = [] # energy dissipated from drag\n",
    "        for slope,vel,acc,delta_time in zip(s,v,a,dt):\n",
    "            force = getInertialForce(self.mass, acc) + getRoadFriction(self.mass,self.crr, slope) + getAerodynamicDrag(self.cd, self.A, vel**2)\n",
    "            Fr.append(force)\n",
    "            Er.append(force*vel*delta_time)\n",
    "        \n",
    "            \n",
    "        Fs = [] # slope component (defined as drag) - slope is broken out from rest of total road load, in case EV brakes on downhill \n",
    "        Es = [] # energy associated to slope\n",
    "        for slope,vel,delta_time in zip(s,v,dt):\n",
    "            force = getRoadSlopeForce(self.mass, slope)\n",
    "            Fs.append(force)\n",
    "            Es.append(force*vel*delta_time)\n",
    "            \n",
    "        # drivetrain energy (wheel side): engine/brake force counteracts drag forces\n",
    "        Em = [x+y for x,y in zip(Es,Er)] # from battery if positive, to battery if negative (RGbrake)\n",
    "        # takes into account efficiency of charge/discharge etc...\n",
    "        Em_eff = [0.0]*len(Em) \n",
    "        for i in range(len(Em)):\n",
    "            if Em[i] > 0:\n",
    "                Em_eff[i] = Em[i]/self.eff\n",
    "            elif Em[i] < 0:\n",
    "                Em_eff[i]= Em[i]*RGBeff \n",
    "         \n",
    "        # adds constant loss p0 (1 kW)\n",
    "        for i in range(len(Em_eff)):\n",
    "            if v[i] > 2: # [m/s] to make sure that the vehicle is not parked (and engine maybe turned off)\n",
    "                Em_eff[i] += self.p0\n",
    "\n",
    "        return Em_eff"
   ]
  },
  {
   "cell_type": "code",
   "execution_count": 453,
   "id": "40bcc0dc-f90e-455e-a7d7-274744dbf3a5",
   "metadata": {
    "tags": []
   },
   "outputs": [],
   "source": [
    "class Drivecycle: \n",
    "    \"\"\"\n",
    "    Inputs: dataframe with journey info\n",
    "    \"\"\"\n",
    "    def __init__(self, journey_df): \n",
    "        self.displacement = journey_df.Distance_3D_km # m\n",
    "        self.velocity = journey_df.Speed/3.6 # convert km/h to m/s\n",
    "        self.acceleration = journey_df.Acceleration # m/s^2\n",
    "        self.slope = journey_df.slope_rad\n",
    "        self.time = journey_df.RelTime.max() # Total Time Elapsed\n",
    "        self.dt = journey_df.TimeDif"
   ]
  },
  {
   "cell_type": "code",
   "execution_count": 454,
   "id": "6e43cf14-3b1b-4edf-9d50-2063450b3212",
   "metadata": {},
   "outputs": [],
   "source": [
    "# Create drivecycle object from journey data, and instantiate create vehicle object\n",
    "journey = df\n",
    "drvcycle = Drivecycle(journey)\n",
    "minibus = Vehicle()"
   ]
  },
  {
   "cell_type": "code",
   "execution_count": 455,
   "id": "64d82bab-f46a-4c9b-b996-2ede5d36f33b",
   "metadata": {},
   "outputs": [],
   "source": [
    "# Compute energy expenditure (with and without regenerative braking)\n",
    "\n",
    "enJ = minibus.getEnergyExpenditure(drvcycle)\n",
    "enJnoRG = minibus.getEnergyExpenditure(drvcycle, regbrake = False) \n",
    "\n",
    "journey['PowerW'] = enJnoRG\n",
    "journey['PowerW_RG'] = enJ\n",
    "journey['SoC_RG'] = np.array(enJ)/3.6e6/minibus.capacity # decrease in SoC\n"
   ]
  },
  {
   "cell_type": "code",
   "execution_count": 456,
   "id": "84d4dab4-9f57-48ca-9461-21bf8f637797",
   "metadata": {},
   "outputs": [
    {
     "name": "stdout",
     "output_type": "stream",
     "text": [
      "Total energy consumption for the route:\n",
      " 421960.26626805234 kWh\n",
      "That's too high bro!!!\n"
     ]
    }
   ],
   "source": [
    "print(\"Total energy consumption for the route:\\n\", journey.PowerW.sum()/1e3, \"kWh\")\n",
    "if journey.PowerW_RG.sum()/1e3 > 50:\n",
    "    print(\"That's too high bro!!!\")\n",
    "else:\n",
    "    print(\"Let's get some EVs up in here\")"
   ]
  },
  {
   "cell_type": "markdown",
   "id": "52ea035a-a164-467e-af5d-07ff1d45529e",
   "metadata": {
    "jp-MarkdownHeadingCollapsed": true,
    "tags": []
   },
   "source": [
    "## Figure out what the SOC_RG calculation is doing and adjust for my purposes"
   ]
  },
  {
   "cell_type": "code",
   "execution_count": null,
   "id": "963bcd28-4c63-4d84-af54-8635456f632e",
   "metadata": {},
   "outputs": [],
   "source": [
    "# Plotting route on Folium\n",
    "map1 = folium.Map(\n",
    "    location=[df[\"Latitude\"][1], df[\"Longitude\"][1]],\n",
    "    tiles='cartodbpositron',\n",
    "    zoom_start=12,\n",
    ")\n",
    "df.apply(lambda row:folium.CircleMarker(location=[row[\"Latitude\"], row[\"Longitude\"]]).add_to(map1), axis=1)\n",
    "map1"
   ]
  },
  {
   "cell_type": "markdown",
   "id": "f1c3a73e-a8c0-4bb8-8e62-d77c332ca582",
   "metadata": {},
   "source": [
    "## Extra processing if needed, to use in the EV Fleet Simulator"
   ]
  },
  {
   "cell_type": "code",
   "execution_count": 244,
   "id": "36bb1087-bca4-415a-b712-420e8b5ffd50",
   "metadata": {},
   "outputs": [],
   "source": [
    "newdf.to_csv(\"ev-fleet-sim-master/src/test_johan/_Inputs/Traces/Processed/test_johan.csv\")"
   ]
  },
  {
   "cell_type": "code",
   "execution_count": null,
   "id": "d31b04b0-ad68-4fdc-b575-b04d4757b70b",
   "metadata": {},
   "outputs": [],
   "source": [
    "newdf[\"Time\"] = newdf[\"DateTime\"]\n",
    "newdf = newdf.drop(labels = [\"DateTime\"], axis = 1)"
   ]
  },
  {
   "cell_type": "code",
   "execution_count": 242,
   "id": "b7f4d07a-8e11-4599-a782-faf2559ef593",
   "metadata": {},
   "outputs": [
    {
     "data": {
      "text/html": [
       "<div>\n",
       "<style scoped>\n",
       "    .dataframe tbody tr th:only-of-type {\n",
       "        vertical-align: middle;\n",
       "    }\n",
       "\n",
       "    .dataframe tbody tr th {\n",
       "        vertical-align: top;\n",
       "    }\n",
       "\n",
       "    .dataframe thead th {\n",
       "        text-align: right;\n",
       "    }\n",
       "</style>\n",
       "<table border=\"1\" class=\"dataframe\">\n",
       "  <thead>\n",
       "    <tr style=\"text-align: right;\">\n",
       "      <th></th>\n",
       "      <th>Latitude</th>\n",
       "      <th>Longitude</th>\n",
       "      <th>Altitude</th>\n",
       "      <th>Heading</th>\n",
       "      <th>X-Axis Acceleration</th>\n",
       "      <th>Y-Axis Acceleration</th>\n",
       "      <th>Z-Axis Acceleration</th>\n",
       "      <th>Velocity</th>\n",
       "      <th>Time</th>\n",
       "      <th>GPSID</th>\n",
       "    </tr>\n",
       "  </thead>\n",
       "  <tbody>\n",
       "    <tr>\n",
       "      <th>0</th>\n",
       "      <td>-33.93113</td>\n",
       "      <td>18.85856</td>\n",
       "      <td>119.0</td>\n",
       "      <td>329.52</td>\n",
       "      <td>0.020</td>\n",
       "      <td>0.188</td>\n",
       "      <td>1.028</td>\n",
       "      <td>0.46</td>\n",
       "      <td>2022-03-10 15:08:51</td>\n",
       "      <td>0</td>\n",
       "    </tr>\n",
       "    <tr>\n",
       "      <th>1</th>\n",
       "      <td>-33.93113</td>\n",
       "      <td>18.85856</td>\n",
       "      <td>119.2</td>\n",
       "      <td>329.52</td>\n",
       "      <td>0.054</td>\n",
       "      <td>0.156</td>\n",
       "      <td>1.062</td>\n",
       "      <td>0.52</td>\n",
       "      <td>2022-03-10 15:08:53</td>\n",
       "      <td>1</td>\n",
       "    </tr>\n",
       "    <tr>\n",
       "      <th>2</th>\n",
       "      <td>-33.93113</td>\n",
       "      <td>18.85856</td>\n",
       "      <td>119.5</td>\n",
       "      <td>329.52</td>\n",
       "      <td>0.052</td>\n",
       "      <td>0.174</td>\n",
       "      <td>1.026</td>\n",
       "      <td>0.61</td>\n",
       "      <td>2022-03-10 15:08:55</td>\n",
       "      <td>2</td>\n",
       "    </tr>\n",
       "    <tr>\n",
       "      <th>3</th>\n",
       "      <td>-33.93113</td>\n",
       "      <td>18.85855</td>\n",
       "      <td>119.6</td>\n",
       "      <td>329.52</td>\n",
       "      <td>0.008</td>\n",
       "      <td>0.160</td>\n",
       "      <td>0.964</td>\n",
       "      <td>0.35</td>\n",
       "      <td>2022-03-10 15:08:56</td>\n",
       "      <td>3</td>\n",
       "    </tr>\n",
       "    <tr>\n",
       "      <th>4</th>\n",
       "      <td>-33.93113</td>\n",
       "      <td>18.85855</td>\n",
       "      <td>119.7</td>\n",
       "      <td>329.52</td>\n",
       "      <td>0.052</td>\n",
       "      <td>0.072</td>\n",
       "      <td>1.056</td>\n",
       "      <td>0.30</td>\n",
       "      <td>2022-03-10 15:08:57</td>\n",
       "      <td>4</td>\n",
       "    </tr>\n",
       "    <tr>\n",
       "      <th>...</th>\n",
       "      <td>...</td>\n",
       "      <td>...</td>\n",
       "      <td>...</td>\n",
       "      <td>...</td>\n",
       "      <td>...</td>\n",
       "      <td>...</td>\n",
       "      <td>...</td>\n",
       "      <td>...</td>\n",
       "      <td>...</td>\n",
       "      <td>...</td>\n",
       "    </tr>\n",
       "    <tr>\n",
       "      <th>613</th>\n",
       "      <td>-33.96375</td>\n",
       "      <td>18.84001</td>\n",
       "      <td>128.2</td>\n",
       "      <td>59.04</td>\n",
       "      <td>-0.076</td>\n",
       "      <td>0.160</td>\n",
       "      <td>0.952</td>\n",
       "      <td>7.07</td>\n",
       "      <td>2022-03-10 15:23:34</td>\n",
       "      <td>613</td>\n",
       "    </tr>\n",
       "    <tr>\n",
       "      <th>614</th>\n",
       "      <td>-33.96373</td>\n",
       "      <td>18.84003</td>\n",
       "      <td>128.1</td>\n",
       "      <td>35.08</td>\n",
       "      <td>0.028</td>\n",
       "      <td>0.142</td>\n",
       "      <td>1.024</td>\n",
       "      <td>0.26</td>\n",
       "      <td>2022-03-10 15:23:36</td>\n",
       "      <td>614</td>\n",
       "    </tr>\n",
       "    <tr>\n",
       "      <th>615</th>\n",
       "      <td>-33.96373</td>\n",
       "      <td>18.84003</td>\n",
       "      <td>127.9</td>\n",
       "      <td>35.08</td>\n",
       "      <td>0.104</td>\n",
       "      <td>0.116</td>\n",
       "      <td>0.960</td>\n",
       "      <td>0.09</td>\n",
       "      <td>2022-03-10 15:23:37</td>\n",
       "      <td>615</td>\n",
       "    </tr>\n",
       "    <tr>\n",
       "      <th>616</th>\n",
       "      <td>-33.96373</td>\n",
       "      <td>18.84003</td>\n",
       "      <td>128.8</td>\n",
       "      <td>35.08</td>\n",
       "      <td>0.112</td>\n",
       "      <td>0.156</td>\n",
       "      <td>0.994</td>\n",
       "      <td>0.07</td>\n",
       "      <td>2022-03-10 15:23:39</td>\n",
       "      <td>616</td>\n",
       "    </tr>\n",
       "    <tr>\n",
       "      <th>617</th>\n",
       "      <td>-33.96372</td>\n",
       "      <td>18.84003</td>\n",
       "      <td>128.7</td>\n",
       "      <td>35.08</td>\n",
       "      <td>0.112</td>\n",
       "      <td>0.176</td>\n",
       "      <td>0.998</td>\n",
       "      <td>0.04</td>\n",
       "      <td>2022-03-10 15:23:41</td>\n",
       "      <td>617</td>\n",
       "    </tr>\n",
       "  </tbody>\n",
       "</table>\n",
       "<p>618 rows × 10 columns</p>\n",
       "</div>"
      ],
      "text/plain": [
       "     Latitude  Longitude  Altitude  Heading  X-Axis Acceleration  \\\n",
       "0   -33.93113   18.85856     119.0   329.52                0.020   \n",
       "1   -33.93113   18.85856     119.2   329.52                0.054   \n",
       "2   -33.93113   18.85856     119.5   329.52                0.052   \n",
       "3   -33.93113   18.85855     119.6   329.52                0.008   \n",
       "4   -33.93113   18.85855     119.7   329.52                0.052   \n",
       "..        ...        ...       ...      ...                  ...   \n",
       "613 -33.96375   18.84001     128.2    59.04               -0.076   \n",
       "614 -33.96373   18.84003     128.1    35.08                0.028   \n",
       "615 -33.96373   18.84003     127.9    35.08                0.104   \n",
       "616 -33.96373   18.84003     128.8    35.08                0.112   \n",
       "617 -33.96372   18.84003     128.7    35.08                0.112   \n",
       "\n",
       "     Y-Axis Acceleration  Z-Axis Acceleration  Velocity                Time  \\\n",
       "0                  0.188                1.028      0.46 2022-03-10 15:08:51   \n",
       "1                  0.156                1.062      0.52 2022-03-10 15:08:53   \n",
       "2                  0.174                1.026      0.61 2022-03-10 15:08:55   \n",
       "3                  0.160                0.964      0.35 2022-03-10 15:08:56   \n",
       "4                  0.072                1.056      0.30 2022-03-10 15:08:57   \n",
       "..                   ...                  ...       ...                 ...   \n",
       "613                0.160                0.952      7.07 2022-03-10 15:23:34   \n",
       "614                0.142                1.024      0.26 2022-03-10 15:23:36   \n",
       "615                0.116                0.960      0.09 2022-03-10 15:23:37   \n",
       "616                0.156                0.994      0.07 2022-03-10 15:23:39   \n",
       "617                0.176                0.998      0.04 2022-03-10 15:23:41   \n",
       "\n",
       "     GPSID  \n",
       "0        0  \n",
       "1        1  \n",
       "2        2  \n",
       "3        3  \n",
       "4        4  \n",
       "..     ...  \n",
       "613    613  \n",
       "614    614  \n",
       "615    615  \n",
       "616    616  \n",
       "617    617  \n",
       "\n",
       "[618 rows x 10 columns]"
      ]
     },
     "execution_count": 242,
     "metadata": {},
     "output_type": "execute_result"
    }
   ],
   "source": [
    "newdf[\"GPSID\"] = newdf.index\n",
    "newdf"
   ]
  }
 ],
 "metadata": {
  "kernelspec": {
   "display_name": "Python 3 (ipykernel)",
   "language": "python",
   "name": "python3"
  },
  "language_info": {
   "codemirror_mode": {
    "name": "ipython",
    "version": 3
   },
   "file_extension": ".py",
   "mimetype": "text/x-python",
   "name": "python",
   "nbconvert_exporter": "python",
   "pygments_lexer": "ipython3",
   "version": "3.9.7"
  }
 },
 "nbformat": 4,
 "nbformat_minor": 5
}
