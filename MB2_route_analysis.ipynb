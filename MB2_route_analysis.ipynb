{
 "cells": [
  {
   "cell_type": "markdown",
   "id": "d6ad344e-c4cb-4ac8-898f-0f6f33d12dd7",
   "metadata": {
    "tags": []
   },
   "source": [
    "**To-DO's**\n",
    "\n",
    "Look at SUMO output and see what kind of output I want. Think about what we want in the paper and add those things\n",
    "\n",
    "\n",
    "***Energy Expenditure function output*** <br>\n",
    "Consider if I want it to output Watts or Watt-Hours. Might as well do watts and then calculate watt-hours??\n",
    "\n",
    "***Acceleration calculations*** <br>\n",
    "How to use XYZ accelerometer to calculate acceleration. <br>\n",
    "Currently using dv/dt (Acceleration2 in drivecycle class) <br>\n",
    "Consider removing acceleration > 4 m/s^2 (Sun et al aper suggested this is abnormal)\n",
    "\n",
    "***Map the routes*** <br> use folium?\n",
    "\n",
    "***Implement 'drive cycle aggregator' function*** <br>\n",
    "Identify route 'type', so as to group dataframes by that type <br>\n",
    "Identify time period across which to see a drive cycle <br>\n",
    "Take average velocities across this time period \n",
    "Plot\n",
    "\n",
    "***Construct sensitivity analysis***<br> Interact function?"
   ]
  },
  {
   "cell_type": "code",
   "execution_count": 1,
   "id": "120d6ce4-c42c-4d90-9a15-c80fe91b28d6",
   "metadata": {},
   "outputs": [],
   "source": [
    "import pandas as pd\n",
    "import os\n",
    "import numpy as np\n",
    "import geopy.distance\n",
    "import datetime\n",
    "import geopandas\n",
    "import matplotlib as matplotlib\n",
    "import matplotlib.pyplot as plt\n",
    "\n",
    "import descartes\n",
    "import geopandas as gpd\n",
    "from shapely.geometry import Point, Polygon\n",
    "\n",
    "import folium\n",
    "\n",
    "from ipywidgets import interact, interactive, fixed, interact_manual\n",
    "\n"
   ]
  },
  {
   "cell_type": "markdown",
   "id": "bb5b9f0b-c138-45c9-955a-93b73fbd900d",
   "metadata": {},
   "source": [
    "### Read Files"
   ]
  },
  {
   "cell_type": "markdown",
   "id": "95a46496-66a5-42c7-a42b-8afaef26f1c4",
   "metadata": {},
   "source": [
    "## Main"
   ]
  },
  {
   "cell_type": "code",
   "execution_count": 34,
   "id": "2a333299-d484-403d-bfd2-45100d862f46",
   "metadata": {
    "tags": []
   },
   "outputs": [
    {
     "name": "stdout",
     "output_type": "stream",
     "text": [
      "Processing journey: KMDI - STB\n",
      "Total estimated energy consumption for this route: 0.39 kWh\n",
      "Total journey time: 7.75 minutes\n",
      "Total journey distance: 2.71 km\n",
      "Estimated vehicle efficiency: 0.1459 kWh/km\n",
      "% of battery charge left: 99.61 %\n",
      "Processing journey: SW - STB\n",
      "Total estimated energy consumption for this route: 8.12 kWh\n",
      "Total journey time: 27.28 minutes\n",
      "Total journey distance: 20.29 km\n",
      "Estimated vehicle efficiency: 0.4001 kWh/km\n",
      "% of battery charge left: 91.88 %\n",
      "Processing journey: STB - KMDI\n",
      "Total estimated energy consumption for this route: 1.85 kWh\n",
      "Total journey time: 20.38 minutes\n",
      "Total journey distance: 5.26 km\n",
      "Estimated vehicle efficiency: 0.3526 kWh/km\n",
      "% of battery charge left: 98.15 %\n",
      "Processing journey: STB - SW\n",
      "Total estimated energy consumption for this route: 7.23 kWh\n",
      "Total journey time: 40.92 minutes\n",
      "Total journey distance: 20.33 km\n",
      "Estimated vehicle efficiency: 0.3558 kWh/km\n",
      "% of battery charge left: 92.77 %\n"
     ]
    }
   ],
   "source": [
    "path = \"Data/\"\n",
    "raw_journeys = {} # Dictionary to hold raw journey data\n",
    "processed_journeys = {} # Dictionary to hold processed data\n",
    "\n",
    "for filename in os.listdir(path):\n",
    "    if filename.endswith('.CSV'):\n",
    "        route = os.path.splitext(filename)[0]\n",
    "        raw_journeys[route] = read_file(filename, path)\n",
    "\n",
    "for key,val in raw_journeys.items():\n",
    "    print(\"Processing journey:\", key)\n",
    "    journey = val\n",
    "    getDistSlope(journey) # Augment journey dataframe with distance and slope columns\n",
    "    minibus = Vehicle() # Instantiate vehicle object\n",
    "    drvcycle = Drivecycle(journey) # Create drivecycle object with trip data\n",
    "    \n",
    "    # Compute energy expenditure (with and without regenerative braking)\n",
    "    journey['Energy_Wh'] = minibus.getEnergyExpenditure(drvcycle)\n",
    "    \n",
    "    # Compute change in SoC at each timestep\n",
    "    journey['SoC'] = np.array(journey['Energy_Wh'])/minibus.capacity/3.6e6 \n",
    "\n",
    "    # Journey statistics\n",
    "    print(\"Total estimated energy consumption for this route:\", round(journey.Energy_Wh.sum()/3.6e6,2), \"kWh\")\n",
    "    print(\"Total journey time:\", round(journey.RelTime.max()/60,2), \"minutes\")\n",
    "    print(\"Total journey distance:\", round(journey.Distance_3D_km.sum(),2), \"km\")\n",
    "    print(\"Estimated vehicle efficiency:\", round((journey.Energy_Wh.sum()/3.6e6)/journey.Distance_3D_km.sum(),4), \"kWh/km\")\n",
    "    print(\"% of battery charge left:\", round(100*(1 - journey.SoC.sum()),2), \"%\")\n",
    "    \n",
    "    #Keep track of processed journey dataframes\n",
    "    processed_journeys[key] = journey\n",
    "    "
   ]
  },
  {
   "cell_type": "markdown",
   "id": "28109519-e38a-4771-b2b3-c9ffc982c4a6",
   "metadata": {},
   "source": [
    "### Plot Drive Cycles"
   ]
  },
  {
   "cell_type": "code",
   "execution_count": null,
   "id": "10e3c207-4a6e-493f-9239-64df1c3f4440",
   "metadata": {},
   "outputs": [],
   "source": [
    "for filename, journey in processed_journeys.items():\n",
    "    plotDriveCycle(journey)"
   ]
  },
  {
   "cell_type": "code",
   "execution_count": 21,
   "id": "ae5600a4-2d55-4d5d-8be1-25d52dc7fdc8",
   "metadata": {},
   "outputs": [],
   "source": [
    "def plotDriveCycle(journey):\n",
    "    fig, ax = plt.subplots()\n",
    "    ax.plot(journey['RelTime'], journey['Speed'], color = 'blue')\n",
    "    ax.set_xlabel(\"Time (seconds)\")\n",
    "    ax.set_ylabel(\"Speed (km/h)\")\n",
    "    ax2 = ax.twinx() \n",
    "    ax2.plot(journey['RelTime'], journey['Energy_RG_WH']/3.6e6, color = \"red\")\n",
    "    ax2.set_ylabel(\"Energy (kWh)\")\n",
    "    plt.show()\n",
    "def plotDriveCycle_sep_axes(journey):\n",
    "    fig, (ax1,ax2,ax3)= plt.subplots(3)\n",
    "    fig.set_figheight(15)\n",
    "    fig.set_figwidth(10)\n",
    "    ax1.plot(journey['RelTime'], journey['Speed'])\n",
    "    ax2.plot(journey['RelTime'], journey['Energy_RG_WH']/3.6e6)\n",
    "    ax3.plot(journey['RelTime'], journey['Acceleration_dv_dt'])"
   ]
  },
  {
   "cell_type": "markdown",
   "id": "bff242b9-b2b0-47a1-be77-04a2434f221c",
   "metadata": {},
   "source": [
    "## Functions"
   ]
  },
  {
   "cell_type": "code",
   "execution_count": 26,
   "id": "fbb60a80-fd2a-467e-bef0-9ad16276990e",
   "metadata": {
    "tags": []
   },
   "outputs": [],
   "source": [
    "''' \n",
    "Takes in name of csv file with vehicle journey data\n",
    "Returns augmented dataframe ready for analysis\n",
    "\n",
    "TODO: Take out acceleration sanity check when no longer needed\n",
    "'''\n",
    "def read_file(filename, path):\n",
    "    journey = pd.read_csv(path + filename)\n",
    "   \n",
    "    # Join date and time columns into one column, and drop individual columns\n",
    "    journey['DateTime'] = pd.to_datetime(journey['Date'] + journey['Time'], format = '%m/%d/%Y%H:%M:%S')\n",
    "    \n",
    "    # Calculate time elapsed between each timestamp\n",
    "    journey['DeltaT'] = journey['DateTime'] - journey['DateTime'].shift(1) \n",
    "    journey.DeltaT = journey['DeltaT']/ np.timedelta64(1, 's')# Convert from timedelta to float\n",
    "    \n",
    "    # Calculate acceleration from x,y,z-axis accelerations\n",
    "    journey['Acceleration_measured'] = 9.80665 * journey['X-Axis Acceleration']\n",
    "    # Acceleration using dV/dT\n",
    "    journey['DeltaV'] = journey['Speed'] - journey['Speed'].shift(1) # creating this column for easier debugging\n",
    "    journey['Acceleration_dv_dt'] = (journey['DeltaV']/3.6)/journey['DeltaT']\n",
    "\n",
    "\n",
    "\n",
    "\n",
    "    \n",
    "    # Relative time from start of journey, used for plotting drive cycle\n",
    "    journey[\"RelTime\"] = journey[\"DateTime\"] - journey[\"DateTime\"].min() \n",
    "    journey.RelTime = journey['RelTime']/ np.timedelta64(1, 's')# Convert from timedelta to float\n",
    "\n",
    "    # Elevation change between each recording\n",
    "    journey['ElevChange'] = journey['Altitude'] - journey[\"Altitude\"].shift(1) # Ma y not be needed if don't use haversine function \n",
    "   \n",
    "    # Joins Lat/Lon Coords into one column, useful for getDist function\n",
    "    journey['Coordinates'] = list(zip(journey.Latitude, journey.Longitude)) \n",
    "\n",
    "    return journey"
   ]
  },
  {
   "cell_type": "code",
   "execution_count": 3,
   "id": "92bd2d87-8e97-44d0-9c44-1be461e64d8c",
   "metadata": {
    "jupyter": {
     "source_hidden": true
    },
    "tags": []
   },
   "outputs": [],
   "source": [
    "''' \n",
    "Inputs: dataframe with vehicle journey data\n",
    "\n",
    "Calculates distance between each successive pair of lat/lon coordinates\n",
    "(accounts for elevation difference)\n",
    "\n",
    "Calculates slope angle faced by vehicle at each timestamp\n",
    "\n",
    "TODO: decide arcsin or arccos approach. which is more accurate?\n",
    "\n",
    "'''\n",
    "def getDistSlope(journey):\n",
    "    Distance = np.zeros(len(journey))\n",
    "    Slope = np.zeros(len(journey))\n",
    "    Slope_tan = np.zeros(len(journey))\n",
    "    l_route = journey.shape[0]\n",
    "\n",
    "    for i in range(1,l_route):\n",
    "        elev_change = journey.Altitude.iloc[i]-journey.Altitude.iloc[i-1]\n",
    "        dist_lateral = geopy.distance.geodesic(journey.Coordinates.iloc[i-1],  # Lateral distance in meters - dist between two lat/lon coord pairs\n",
    "                                       journey.Coordinates.iloc[i]).m\n",
    "        dist_3d = np.sqrt(dist_lateral**2 + elev_change**2)  # 3d dist -- accounting for elevation\n",
    "        Distance[i] = dist_3d/1e3 # convert to km\n",
    "        if Distance[i] != 0:\n",
    "           # Slope[i] = np.arccos(dist_lateral/dist_3d) # Would rather use arcsin since that uses 1 measured value instead of 2 calculated values, but that doesn't work\n",
    "            Slope[i] = np.arcsin(elev_change/dist_3d)\n",
    "    journey['Distance_3D_km'] = list(Distance)\n",
    "    journey['slope_rad'] = list(Slope) "
   ]
  },
  {
   "cell_type": "code",
   "execution_count": 4,
   "id": "fad96bdf-ea59-48e4-9685-feb57510c969",
   "metadata": {
    "jupyter": {
     "source_hidden": true
    },
    "tags": []
   },
   "outputs": [],
   "source": [
    "# Functions that calculate four different types of forces acting on the vehicle, used in calculating total road load \n",
    "# based on functions shown here https://x-engineer.org/ev-design-energy-consumption/\\\n",
    "\n",
    "# Inertial Force\n",
    "def getInertialForce(mass, accel):\n",
    "    return mass * accel\n",
    "\n",
    "# Road load (friction)\n",
    "def getRoadFriction(mass, c_rr, slope, grav = 9.81): #c_rr is coeff of rolling resistance\n",
    "    return mass * grav * c_rr * np.cos(slope)\n",
    "\n",
    "# Aerodynamic Drag Force\n",
    "def getAerodynamicDrag(c_d, A, vel, rho = 1.204): # rho is air density 20C, c_d is air drag coeff\n",
    "    return 0.5 * rho * c_d * A * vel**2\n",
    "\n",
    "# Road Slope Force\n",
    "def getRoadSlopeDrag(mass, slope, grav = 9.81):\n",
    "    return mass * grav * np.sin(slope)"
   ]
  },
  {
   "cell_type": "code",
   "execution_count": 33,
   "id": "322cb4ae-4de3-4a4f-95d9-99e607e383f8",
   "metadata": {
    "tags": []
   },
   "outputs": [],
   "source": [
    "class Vehicle:\n",
    "    \"\"\"\n",
    "    Inputs: Physical parameters of vehicle for modeling energy consumption\n",
    "    Returns an array of vehicle energy consumption at each timestamp\n",
    "    \n",
    "    mass - vehicle mass (kg)\n",
    "    cd - coefficient of drag\n",
    "    crr - coefficient of rolling resistance\n",
    "    A - vehicle frontal area (m^2)\n",
    "    eff - vehicle propulsion efficiency\n",
    "    rgbeff - regenerative braking energy recuperation efficiency \n",
    "    cap - vehicle battery cap (kWh)\n",
    "    p0 - constant power intake (W)\n",
    "    \"\"\"\n",
    "    \n",
    "    def __init__(self, mass = 2900, payload = 0,\n",
    "                 cd = 0.368, crr = 0.01, A = 4,\n",
    "                 eff = 0.8, rgbeff = 0.5, cap = 100, p0 = 100):\n",
    "\n",
    "        # Vehicle physical parameters\n",
    "        self.mass = mass # kg\n",
    "        self.load = payload #kg\n",
    "        self.crr = crr # coefficient of rolling resistance\n",
    "        self.cd = cd  # air drag coefficient\n",
    "        self.A = A # m^2, Approximation of vehicle frontal area \n",
    "        self.eff = eff\n",
    "        self.rgbeff = rgbeff \n",
    "        self.capacity = cap \n",
    "        self.battery = cap\n",
    "        self.p0 = p0 # constant power loss in W (to run the vehicle besides driving)\n",
    "        \n",
    "    def getEnergyExpenditure(self,cycle,regbrake = True):\n",
    "        # computes energy expenditure from a Drivecycle object\n",
    "        # dt default 1 second\n",
    "        \n",
    "        v = cycle.velocity/3.6 # m/s \n",
    "        s = cycle.slope # rad\n",
    "        a = cycle.acceleration # m/s^2\n",
    "        dt = cycle.dt # s\n",
    "        d = cycle.displacement # m\n",
    "        dv = cycle.dv\n",
    "        \n",
    "        if regbrake == True:\n",
    "            RGBeff = self.rgbeff\n",
    "        else:\n",
    "            RGBeff = 0\n",
    "                        \n",
    "        Fr = [] # Drag force: Inertia + Friction + Aero Drag + Slope Drag (N)\n",
    "        Pr = [] # Total Power (W)\n",
    "        Er = [] # Total energy consumption (J), from battery if positive, to battery if negative (RGbrake)\n",
    "        for slope,vel,acc,delta_t,delta_v in zip(s,v,a,dt,dv):\n",
    "            force = getInertialForce(self.mass, acc) + \\\n",
    "                    getRoadFriction(self.mass,self.crr, slope) + \\\n",
    "                    getAerodynamicDrag(self.cd, self.A, vel) + \\\n",
    "                    getRoadSlopeDrag(self.mass, slope)\n",
    "           # exp_speed_delta = force * delta_t / self.mass\n",
    "           # unexp_speed_delta = exp_speed_delta - delta_v\n",
    "           # prop_force = unexp_speed_delta * delta_t / self.mass\n",
    "            power = force * vel\n",
    "            energy = power * delta_t\n",
    "            Fr.append(force) # N\n",
    "            Pr.append(power) # W\n",
    "            Er.append(energy) # Wh\n",
    "            \n",
    "        Em_eff = [0.0]*len(Er)\n",
    "        for i in range(len(Er)):\n",
    "            if Er[i] > 0:\n",
    "                Em_eff[i] = Er[i]/self.eff\n",
    "            elif Er[i] < 0:\n",
    "                Em_eff[i]= Er[i]*RGBeff   \n",
    "\n",
    "       # adds constant loss p0 (100W)\n",
    "        for i in range(len(Em_eff)):\n",
    "            if v[i] > 0.50: # [m/s] to make sure that the vehicle is not parked (and engine maybe turned off)\n",
    "                Em_eff[i] += self.p0\n",
    "            else:\n",
    "                Em_eff[i] = 0 \n",
    "               \n",
    "        # output in watt-hours\n",
    "        return Em_eff"
   ]
  },
  {
   "cell_type": "code",
   "execution_count": 25,
   "id": "40bcc0dc-f90e-455e-a7d7-274744dbf3a5",
   "metadata": {
    "tags": []
   },
   "outputs": [],
   "source": [
    "class Drivecycle: \n",
    "    \"\"\"\n",
    "    Inputs: dataframe with journey info\n",
    "    \"\"\"\n",
    "    def __init__(self, journey): \n",
    "        self.displacement = journey.Distance_3D_km # m\n",
    "        self.velocity = journey.Speed # km/h - make sure to convert to m/s before using in calcs\n",
    "        self.acceleration = journey.Acceleration_dv_dt # m/s^2\n",
    "        self.slope = journey.slope_rad # rad\n",
    "        self.time = journey.RelTime.max() # Total Time Elapsed\n",
    "        self.dt = journey.DeltaT # Time elapsed between each timestamp\n",
    "        self.dv = journey.DeltaV\n",
    "        \n",
    "        "
   ]
  },
  {
   "cell_type": "code",
   "execution_count": 32,
   "id": "963bcd28-4c63-4d84-af54-8635456f632e",
   "metadata": {},
   "outputs": [],
   "source": [
    "# Plotting route on Folium\n",
    "for filename, journey in processed_journeys.items():\n",
    "    map1 = folium.Map(\n",
    "        location=[journey[\"Latitude\"][1], journey[\"Longitude\"][1]],\n",
    "        tiles='cartodbpositron',\n",
    "        zoom_start=12,\n",
    "    )\n",
    "    journey.apply(lambda row:folium.CircleMarker(location=[row[\"Latitude\"], row[\"Longitude\"]]).add_to(map1), axis=1)\n",
    "    map1"
   ]
  }
 ],
 "metadata": {
  "kernelspec": {
   "display_name": "Python 3",
   "language": "python",
   "name": "python3"
  },
  "language_info": {
   "codemirror_mode": {
    "name": "ipython",
    "version": 3
   },
   "file_extension": ".py",
   "mimetype": "text/x-python",
   "name": "python",
   "nbconvert_exporter": "python",
   "pygments_lexer": "ipython3",
   "version": "3.8.8"
  }
 },
 "nbformat": 4,
 "nbformat_minor": 5
}
